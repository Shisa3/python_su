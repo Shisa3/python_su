{
 "cells": [
  {
   "cell_type": "markdown",
   "id": "bc0af3b8-0b39-49d7-950d-0c8a2c9e9458",
   "metadata": {},
   "source": [
    "# Schrödinger's cat\n",
    "\n",
    "In [quantum mechanics](https://en.wikipedia.org/wiki/Quantum_mechanics), **Schrödinger's cat** is a [thought experiment](https://en.wikipedia.org/wiki/Thought_experiment) concerning [quantum superposition](https://en.wikipedia.org/wiki/Quantum_superposition). In the thought experiment, a hypothetical cat in a closed box may be considered to be simultaneously both alive and dead while it is unobserved, as a result of its fate being linked to a random subatomic event that may or may not occur. This experiment, viewed this way, is described as a paradox. This thought experiment was devised by physicist Erwin Schrödinger in 1935<sup>[[1]](https://en.wikipedia.org/wiki/Schr%C3%B6dinger%27s_cat#cite_note-Schrodinger1935-1)</sup> in a discussion with Albert Einstein<sup>[[2]](https://en.wikipedia.org/wiki/Schrödinger's_cat#cite_note-Schrodinger1935-2)</sup> to illustrate what Schrödinger saw as the problems of the Copenhagen interpretation of quantum mechanics\n",
    "\n",
    "![Schrodinger's cat diagram](https://upload.wikimedia.org/wikipedia/commons/9/91/Schrodingers_cat.svg)Schrödinger's cat: a cat, a flask of poison, and a radioactive source connected to a Geiger counter are placed in a sealed box. As illustrated, the quantum description uses a superposition of an alive cat and one that has died.\n"
   ]
  }
 ],
 "metadata": {
  "kernelspec": {
   "display_name": "Python 3 (ipykernel)",
   "language": "python",
   "name": "python3"
  },
  "language_info": {
   "codemirror_mode": {
    "name": "ipython",
    "version": 3
   },
   "file_extension": ".py",
   "mimetype": "text/x-python",
   "name": "python",
   "nbconvert_exporter": "python",
   "pygments_lexer": "ipython3",
   "version": "3.10.12"
  }
 },
 "nbformat": 4,
 "nbformat_minor": 5
}
