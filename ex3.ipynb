{
 "cells": [
  {
   "cell_type": "code",
   "execution_count": 2,
   "id": "ba6ccde5-0949-46cf-a0b5-17aa5e13c012",
   "metadata": {},
   "outputs": [],
   "source": [
    "#vkarva moduli duh\n",
    "import numpy as np\n",
    "import matplotlib.pyplot as plt\n",
    "plt.ion()\n",
    "from astropy.io import fits \n",
    "from astropy.table import Table\n",
    "from astropy import units as u\n",
    "%matplotlib widget"
   ]
  },
  {
   "cell_type": "markdown",
   "id": "841c97d7-d3bb-4a9e-83e1-73d25425e7ca",
   "metadata": {},
   "source": [
    "### Test interactive plot"
   ]
  },
  {
   "cell_type": "code",
   "execution_count": 3,
   "id": "3d170f57-f689-4c10-9a3e-8e52066b192f",
   "metadata": {},
   "outputs": [],
   "source": [
    "\n",
    "#plt.plot([1,2,3], [1,2,3])"
   ]
  },
  {
   "cell_type": "markdown",
   "id": "c6ab90cc-f8eb-495c-bc6b-1e8046117da5",
   "metadata": {},
   "source": [
    "$$E = mc^2$$\n",
    "$$\\frac{1}{2} mv^2$$"
   ]
  },
  {
   "cell_type": "code",
   "execution_count": 4,
   "id": "fe4c87b0-a294-4c8d-8747-af908c60f251",
   "metadata": {},
   "outputs": [],
   "source": [
    "s = [1, 4, 5, 8]"
   ]
  },
  {
   "cell_type": "code",
   "execution_count": 5,
   "id": "0ce01fb3-f79b-4f3c-8d69-8d0787dfd7d7",
   "metadata": {},
   "outputs": [
    {
     "name": "stdout",
     "output_type": "stream",
     "text": [
      "17\n"
     ]
    }
   ],
   "source": [
    "print(12+s[2])"
   ]
  },
  {
   "cell_type": "code",
   "execution_count": 6,
   "id": "d9010c84-0d7c-4d88-a658-382d43098b51",
   "metadata": {},
   "outputs": [
    {
     "name": "stdout",
     "output_type": "stream",
     "text": [
      "text is very fun \n"
     ]
    }
   ],
   "source": [
    "e = \"text \" + \"is \" + \"very \" + \"fun \"\n",
    "print(e)"
   ]
  },
  {
   "cell_type": "code",
   "execution_count": 7,
   "id": "75dbb5ce-43db-4db3-a2d8-c763e32be8d4",
   "metadata": {},
   "outputs": [
    {
     "name": "stdout",
     "output_type": "stream",
     "text": [
      "text is very fun !\n"
     ]
    }
   ],
   "source": [
    "e += \"!\" \n",
    "print(e)"
   ]
  },
  {
   "cell_type": "code",
   "execution_count": 8,
   "id": "89eb2c51-563f-4bbc-bbab-94aca235946c",
   "metadata": {},
   "outputs": [
    {
     "name": "stdout",
     "output_type": "stream",
     "text": [
      "text is very fun !\n"
     ]
    }
   ],
   "source": [
    "print(e)"
   ]
  },
  {
   "cell_type": "code",
   "execution_count": 9,
   "id": "77b51750-bbe1-41e9-b957-741d36f34709",
   "metadata": {},
   "outputs": [
    {
     "name": "stdout",
     "output_type": "stream",
     "text": [
      "TEXT IS VERY FUN !\n"
     ]
    }
   ],
   "source": [
    "f = e.upper()\n",
    "print(f)"
   ]
  },
  {
   "cell_type": "code",
   "execution_count": 10,
   "id": "927962c6-0426-4b30-84c1-e7ff03efb25d",
   "metadata": {},
   "outputs": [
    {
     "name": "stdout",
     "output_type": "stream",
     "text": [
      "TEXT IS VERY F\n"
     ]
    }
   ],
   "source": [
    "n1 = f.split(\" \")[0]\n",
    "n2 = f.split(\" \")[1]\n",
    "n3 = f.split(\" \")[2]\n",
    "n4 = f.split(\" \")[3].split(\"U\")[0]\n",
    "print(n1,n2,n3,n4)"
   ]
  },
  {
   "cell_type": "code",
   "execution_count": 11,
   "id": "25290cbd-11f1-4723-99ed-855763d4ad9e",
   "metadata": {},
   "outputs": [],
   "source": [
    "l1 = [2, \"kon\", 6.942]"
   ]
  },
  {
   "cell_type": "code",
   "execution_count": 12,
   "id": "ee5d20c0-6ea5-4c9a-8242-e70e4a7c0477",
   "metadata": {},
   "outputs": [
    {
     "data": {
      "text/plain": [
       "'n'"
      ]
     },
     "execution_count": 12,
     "metadata": {},
     "output_type": "execute_result"
    }
   ],
   "source": [
    "l1[1][2]"
   ]
  },
  {
   "cell_type": "code",
   "execution_count": 13,
   "id": "619a3e84-48b5-45f4-99ef-81b4b7db3bc8",
   "metadata": {},
   "outputs": [
    {
     "name": "stdout",
     "output_type": "stream",
     "text": [
      "[2, 'kon', 42.04]\n"
     ]
    }
   ],
   "source": [
    "l1[2] = 42.040\n",
    "print(l1)"
   ]
  },
  {
   "cell_type": "code",
   "execution_count": 14,
   "id": "4449d5b5-6c19-4735-b4e8-cec4f0289139",
   "metadata": {},
   "outputs": [],
   "source": [
    "l1.append(\"konete sa cool\")"
   ]
  },
  {
   "cell_type": "code",
   "execution_count": 15,
   "id": "0c006214-990b-4c67-8a87-2c9fb0a3a3b4",
   "metadata": {},
   "outputs": [],
   "source": [
    "l1.insert(3, \"konete prevzemat spisuka\")"
   ]
  },
  {
   "cell_type": "code",
   "execution_count": 16,
   "id": "cb3610d7-5087-497c-b573-1fec82f551d6",
   "metadata": {},
   "outputs": [
    {
     "name": "stdout",
     "output_type": "stream",
     "text": [
      "[2, 'kon', 42.04, 'konete prevzemat spisuka', 'konete sa cool']\n"
     ]
    }
   ],
   "source": [
    "print(l1)"
   ]
  },
  {
   "cell_type": "code",
   "execution_count": 17,
   "id": "3dc5ed13-4701-43c0-a721-78f538e2aa29",
   "metadata": {},
   "outputs": [
    {
     "data": {
      "text/plain": [
       "'konete prevzemat spisuka'"
      ]
     },
     "execution_count": 17,
     "metadata": {},
     "output_type": "execute_result"
    }
   ],
   "source": [
    "#spaseni sme\n",
    "l1.pop(3)"
   ]
  },
  {
   "cell_type": "code",
   "execution_count": 18,
   "id": "c25e8256-50e1-49c6-a255-7c5b13a18346",
   "metadata": {},
   "outputs": [
    {
     "name": "stdout",
     "output_type": "stream",
     "text": [
      "[2, 'kon', 42.04, 'konete sa cool']\n"
     ]
    }
   ],
   "source": [
    "print(l1)"
   ]
  },
  {
   "cell_type": "code",
   "execution_count": 19,
   "id": "7ae43c2c-164d-447f-b2f9-1dedeb411d5d",
   "metadata": {},
   "outputs": [
    {
     "data": {
      "text/plain": [
       "4"
      ]
     },
     "execution_count": 19,
     "metadata": {},
     "output_type": "execute_result"
    }
   ],
   "source": [
    "len(l1)"
   ]
  },
  {
   "cell_type": "code",
   "execution_count": 22,
   "id": "0bf87d3b-6c99-4b00-bad0-35938201ac54",
   "metadata": {},
   "outputs": [
    {
     "name": "stdout",
     "output_type": "stream",
     "text": [
      "text is very fun \n"
     ]
    }
   ],
   "source": [
    "whole = e.split('!')[0]\n",
    "print(whole)"
   ]
  },
  {
   "cell_type": "code",
   "execution_count": 28,
   "id": "d2b8fefc-837e-49fb-b389-a9de29963e25",
   "metadata": {},
   "outputs": [
    {
     "name": "stdout",
     "output_type": "stream",
     "text": [
      "TEXT new text  new text  new text wow IS\n"
     ]
    }
   ],
   "source": [
    "z = n1 + \"wow \" + n2\n",
    "print(z)"
   ]
  },
  {
   "cell_type": "code",
   "execution_count": 33,
   "id": "a965b45e-30bf-4638-87e0-c319e32f1bf2",
   "metadata": {},
   "outputs": [
    {
     "name": "stdout",
     "output_type": "stream",
     "text": [
      "[2, 'kon', 42.04]\n",
      "[2, 'kon', 42.04]\n",
      "[2, 42.04]\n"
     ]
    }
   ],
   "source": [
    "print(l1)\n",
    "len(l1)\n",
    "#pop maha element ot spisyka na daden index, 0 ,1 ,2.... -2, -1\n",
    "#l1.pop(-1)\n",
    "print(l1)\n",
    "#remove maha elemnt ot spisyka s daden match, for example ako mrazim kone:\n",
    "l1.remove(\"kon\")\n",
    "print(l1)"
   ]
  },
  {
   "cell_type": "code",
   "execution_count": null,
   "id": "ea44c08a-45f9-4272-b8a3-8f0670c87631",
   "metadata": {},
   "outputs": [],
   "source": []
  }
 ],
 "metadata": {
  "kernelspec": {
   "display_name": "Python 3 (ipykernel)",
   "language": "python",
   "name": "python3"
  },
  "language_info": {
   "codemirror_mode": {
    "name": "ipython",
    "version": 3
   },
   "file_extension": ".py",
   "mimetype": "text/x-python",
   "name": "python",
   "nbconvert_exporter": "python",
   "pygments_lexer": "ipython3",
   "version": "3.10.12"
  }
 },
 "nbformat": 4,
 "nbformat_minor": 5
}
