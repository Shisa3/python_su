{
 "cells": [
  {
   "cell_type": "code",
   "execution_count": 1,
   "id": "f96151da-90fa-4250-869c-2193c7679c6c",
   "metadata": {},
   "outputs": [],
   "source": [
    "#vkarva moduli duh\n",
    "import numpy as np\n",
    "import matplotlib.pyplot as plt\n",
    "plt.ion()\n",
    "from astropy.io import fits \n",
    "from astropy.table import Table\n",
    "from astropy import units as u"
   ]
  },
  {
   "cell_type": "code",
   "execution_count": 4,
   "id": "772baba6-6b6c-4943-9144-daeeb064d0ed",
   "metadata": {},
   "outputs": [
    {
     "name": "stdout",
     "output_type": "stream",
     "text": [
      "50.0 m [12. 26. 69.] m\n"
     ]
    }
   ],
   "source": [
    "#astropy units example, gives you actual value to numbers\n",
    "a = 50.0 * u.meter\n",
    "\n",
    "#moje i v masiv\n",
    "b = [12, 26, 69] * u.meter\n",
    "print(a, b)"
   ]
  },
  {
   "cell_type": "code",
   "execution_count": 5,
   "id": "7fde65ce-9e85-440e-a97a-b2875cf7acb1",
   "metadata": {},
   "outputs": [
    {
     "data": {
      "text/latex": [
       "$35.666667 \\; \\mathrm{m}$"
      ],
      "text/plain": [
       "<Quantity 35.66666667 m>"
      ]
     },
     "execution_count": 5,
     "metadata": {},
     "output_type": "execute_result"
    }
   ],
   "source": [
    "np.mean(b)"
   ]
  },
  {
   "cell_type": "code",
   "execution_count": 10,
   "id": "e2ad6e1f-7382-4fd4-a375-8a1ee5b2a6f9",
   "metadata": {},
   "outputs": [
    {
     "data": {
      "text/latex": [
       "$5 \\; \\mathrm{\\frac{m}{s}}$"
      ],
      "text/plain": [
       "<Quantity 5. m / s>"
      ]
     },
     "execution_count": 10,
     "metadata": {},
     "output_type": "execute_result"
    }
   ],
   "source": [
    "#malko fizika v biznesa\n",
    "15 * u.meter / (3 * u.second)"
   ]
  },
  {
   "cell_type": "code",
   "execution_count": 18,
   "id": "cc3e9b69-e4cb-4b54-9abd-aefe5be24c78",
   "metadata": {},
   "outputs": [
    {
     "name": "stdout",
     "output_type": "stream",
     "text": [
      "62.8 pc\n",
      "1.3955555555555554\n"
     ]
    }
   ],
   "source": [
    "#distance to LMC\n",
    "x = 62.8 * u.parsec\n",
    "\n",
    "y = 45 * u.parsec\n",
    "print(x)\n",
    "print (x/y)"
   ]
  },
  {
   "cell_type": "code",
   "execution_count": 21,
   "id": "9d2b3c5e-aa97-4f21-9553-780dea5e5554",
   "metadata": {},
   "outputs": [
    {
     "name": "stdout",
     "output_type": "stream",
     "text": [
      "62.8\n"
     ]
    }
   ],
   "source": [
    "#ako vse pak ne iskame fizika v biznesa\n",
    "z = x.value\n",
    "print(z)"
   ]
  },
  {
   "cell_type": "code",
   "execution_count": 20,
   "id": "5acb8238-794a-4110-80c4-fd29d9992617",
   "metadata": {},
   "outputs": [
    {
     "data": {
      "text/latex": [
       "$1.396 \\; \\mathrm{}$"
      ],
      "text/plain": [
       "<Quantity 1.396>"
      ]
     },
     "execution_count": 20,
     "metadata": {},
     "output_type": "execute_result"
    }
   ],
   "source": [
    "np.around(x/y, decimals = 3)"
   ]
  },
  {
   "cell_type": "code",
   "execution_count": 22,
   "id": "a567f8a3-201a-426a-9924-d32bae49e4df",
   "metadata": {},
   "outputs": [],
   "source": [
    "c = [2, 4, 7] * u.second"
   ]
  },
  {
   "cell_type": "code",
   "execution_count": 50,
   "id": "74e9ce30-247f-45fa-a777-1e0c8a9d2b06",
   "metadata": {},
   "outputs": [
    {
     "data": {
      "text/plain": [
       "[<matplotlib.lines.Line2D at 0x750c567e0640>]"
      ]
     },
     "execution_count": 50,
     "metadata": {},
     "output_type": "execute_result"
    },
    {
     "data": {
      "image/png": "[encoded data removed]",
      "text/plain": [
       "<Figure size 600x600 with 1 Axes>"
      ]
     },
     "metadata": {},
     "output_type": "display_data"
    }
   ],
   "source": [
    "#plotvame skorost, cveta moje da e hexadecimal #RRGGBB; 000000 = black ffffff = white \n",
    "plt.figure(figsize=(6,6))\n",
    "plt.plot(b, c, ls='', color='#bb00aa', marker = 'o', label = 'windspeed[m/s]')\n",
    "plt.xlabel(\"meters\")\n",
    "plt.ylabel(\"seconds\")\n",
    "plt.legend()\n",
    "plt.ylim(0,10)\n",
    "\n",
    "l1 = np.linspace(0, 70, 10)\n",
    "l2 = np.linspace(0, 70, 10)\n",
    "plt.plot(l1, l2, color = '#cfcfcf', ls='-')"
   ]
  },
  {
   "cell_type": "code",
   "execution_count": null,
   "id": "95582ace-7c99-4c7c-8592-39573c93a11f",
   "metadata": {},
   "outputs": [],
   "source": []
  }
 ],
 "metadata": {
  "kernelspec": {
   "display_name": "Python 3 (ipykernel)",
   "language": "python",
   "name": "python3"
  },
  "language_info": {
   "codemirror_mode": {
    "name": "ipython",
    "version": 3
   },
   "file_extension": ".py",
   "mimetype": "text/x-python",
   "name": "python",
   "nbconvert_exporter": "python",
   "pygments_lexer": "ipython3",
   "version": "3.10.12"
  }
 },
 "nbformat": 4,
 "nbformat_minor": 5
}
