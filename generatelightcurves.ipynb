{
 "cells": [
  {
   "cell_type": "code",
   "execution_count": 1,
   "id": "08d49852-15df-4069-aca9-9c8314eb3236",
   "metadata": {},
   "outputs": [],
   "source": [
    "import os\n",
    "import numpy as np\n",
    "\n",
    "directory_name = 'sample_lcs'\n",
    "\n",
    "if not os.path.exists(directory_name):\n",
    "    os.makedirs(directory_name)\n",
    "\n",
    "n_lightcurves = 10\n",
    "\n",
    "for i in range(n_lightcurves):\n",
    "    times = np.linspace(0, 10, 100)\n",
    "    sigma = np.random.rand()\n",
    "    fluxes = (10 + sigma * np.random.randn(len(times)) +\n",
    "              np.polyval([(0.5 - np.random.rand()), np.random.rand()], (times - 10*np.random.rand())))\n",
    "    uncertainties = sigma * np.ones_like(fluxes)\n",
    "    flags = np.random.randint(0, 5, len(fluxes))\n",
    "\n",
    "    data = [times, fluxes, uncertainties, flags] \n",
    "    np.savetxt('{0}/lc_{1}.txt'.format(directory_name, i), data)"
   ]
  },
  {
   "cell_type": "code",
   "execution_count": null,
   "id": "ba271e50-6172-47e8-b16c-26c97cb3e324",
   "metadata": {},
   "outputs": [],
   "source": []
  }
 ],
 "metadata": {
  "kernelspec": {
   "display_name": "Python 3 (ipykernel)",
   "language": "python",
   "name": "python3"
  },
  "language_info": {
   "codemirror_mode": {
    "name": "ipython",
    "version": 3
   },
   "file_extension": ".py",
   "mimetype": "text/x-python",
   "name": "python",
   "nbconvert_exporter": "python",
   "pygments_lexer": "ipython3",
   "version": "3.10.12"
  }
 },
 "nbformat": 4,
 "nbformat_minor": 5
}
